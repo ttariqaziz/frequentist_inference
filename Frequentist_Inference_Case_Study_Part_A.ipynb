{
  "cells": [
    {
      "cell_type": "markdown",
      "metadata": {
        "id": "BQtii7vn1TqN"
      },
      "source": [
        "# Frequentist Inference Case Study - Part A "
      ]
    },
    {
      "cell_type": "markdown",
      "metadata": {
        "id": "EGRbVCRb1TqP"
      },
      "source": [
        "## 1. Learning objectives"
      ]
    },
    {
      "cell_type": "markdown",
      "metadata": {
        "id": "6pT46HBv1TqP"
      },
      "source": [
        "Welcome to part A of the Frequentist inference case study! The purpose of this case study is to help you apply the concepts associated with Frequentist inference in Python. Frequentist inference is the process of deriving conclusions about an underlying distribution via the observation of data. In particular, you'll practice writing Python code to apply the following statistical concepts: \n",
        "* the _z_-statistic\n",
        "* the _t_-statistic\n",
        "* the difference and relationship between the two\n",
        "* the Central Limit Theorem, including its assumptions and consequences\n",
        "* how to estimate the population mean and standard deviation from a sample\n",
        "* the concept of a sampling distribution of a test statistic, particularly for the mean\n",
        "* how to combine these concepts to calculate a confidence interval"
      ]
    },
    {
      "cell_type": "markdown",
      "metadata": {
        "id": "CnMgfIpM1TqQ"
      },
      "source": [
        "## Prerequisites"
      ]
    },
    {
      "cell_type": "markdown",
      "metadata": {
        "id": "aF0sGnl21TqQ"
      },
      "source": [
        "To be able to complete this notebook, you are expected to have a basic understanding of:\n",
        "* what a random variable is (p.400 of Professor Spiegelhalter's *The Art of Statistics, hereinafter AoS*)\n",
        "* what a population, and a population distribution, are (p. 397 of *AoS*)\n",
        "* a high-level sense of what the normal distribution is (p. 394 of *AoS*)\n",
        "* what the t-statistic is (p. 275 of *AoS*)\n",
        "\n",
        "Happily, these should all be concepts with which you are reasonably familiar after having read ten chapters of Professor Spiegelhalter's book, *The Art of Statistics*.\n",
        "\n",
        "We'll try to relate the concepts in this case study back to page numbers in *The Art of Statistics* so that you can focus on the Python aspects of this case study. The second part (part B) of this case study will involve another, more real-world application of these tools. "
      ]
    },
    {
      "cell_type": "markdown",
      "metadata": {
        "id": "kJkgE5m41TqR"
      },
      "source": [
        "For this notebook, we will use data sampled from a known normal distribution. This allows us to compare our results with theoretical expectations."
      ]
    },
    {
      "cell_type": "markdown",
      "metadata": {
        "id": "895QczEF1TqR"
      },
      "source": [
        "## 2. An introduction to sampling from the normal distribution"
      ]
    },
    {
      "cell_type": "markdown",
      "metadata": {
        "id": "Xbf-opxv1TqS"
      },
      "source": [
        "First, let's explore the ways we can generate the normal distribution. While there's a fair amount of interest in [sklearn](https://scikit-learn.org/stable/) within the machine learning community, you're likely to have heard of [scipy](https://docs.scipy.org/doc/scipy-0.15.1/reference/index.html) if you're coming from the sciences. For this assignment, you'll use [scipy.stats](https://docs.scipy.org/doc/scipy-0.15.1/reference/tutorial/stats.html) to complete your work. \n",
        "\n",
        "This assignment will require some digging around and getting your hands dirty (your learning is maximized that way)! You should have the research skills and the tenacity to do these tasks independently, but if you struggle, reach out to your immediate community and your mentor for help. "
      ]
    },
    {
      "cell_type": "code",
      "execution_count": 38,
      "metadata": {
        "id": "ud6PH1XV1TqS"
      },
      "outputs": [],
      "source": [
        "from scipy.stats import norm\n",
        "from scipy.stats import t\n",
        "import numpy as np\n",
        "import pandas as pd\n",
        "from numpy.random import seed\n",
        "import matplotlib.pyplot as plt"
      ]
    },
    {
      "cell_type": "markdown",
      "metadata": {
        "id": "iSYFZ_j_1TqT"
      },
      "source": [
        "__Q1:__ Call up the documentation for the `norm` function imported above. (Hint: that documentation is [here](https://docs.scipy.org/doc/scipy/reference/generated/scipy.stats.norm.html)). What is the second listed method?"
      ]
    },
    {
      "cell_type": "code",
      "execution_count": 2,
      "metadata": {
        "id": "re8P2y0F1TqU"
      },
      "outputs": [],
      "source": [
        "rv = norm()"
      ]
    },
    {
      "cell_type": "markdown",
      "metadata": {
        "id": "kWES_EFG1TqU"
      },
      "source": [
        "__A:__"
      ]
    },
    {
      "cell_type": "markdown",
      "metadata": {
        "id": "mugUTUBb1TqU"
      },
      "source": [
        "__Q2:__ Use the method that generates random variates to draw five samples from the standard normal distribution. "
      ]
    },
    {
      "cell_type": "markdown",
      "metadata": {
        "id": "5qeINCE31TqU"
      },
      "source": [
        "__A:__"
      ]
    },
    {
      "cell_type": "code",
      "execution_count": 3,
      "metadata": {
        "colab": {
          "base_uri": "https://localhost:8080/"
        },
        "id": "p6B6-GgV1TqV",
        "outputId": "fbb6c26b-009f-46be-c0a4-e6893643d126"
      },
      "outputs": [
        {
          "output_type": "execute_result",
          "data": {
            "text/plain": [
              "array([-0.84800948,  1.30590636,  0.92420797,  0.6404118 , -1.05473698])"
            ]
          },
          "metadata": {},
          "execution_count": 3
        }
      ],
      "source": [
        "seed(47)\n",
        "# draw five samples here\n",
        "r = norm.rvs(size=5)\n",
        "r"
      ]
    },
    {
      "cell_type": "markdown",
      "metadata": {
        "id": "T6brIpeo1TqV"
      },
      "source": [
        "__Q3:__ What is the mean of this sample? Is it exactly equal to the value you expected? Hint: the sample was drawn from the standard normal distribution. If you want a reminder of the properties of this distribution, check out p. 85 of *AoS*. "
      ]
    },
    {
      "cell_type": "markdown",
      "metadata": {
        "id": "dj0yUn1g1TqV"
      },
      "source": [
        "__A:__"
      ]
    },
    {
      "cell_type": "code",
      "execution_count": 4,
      "metadata": {
        "colab": {
          "base_uri": "https://localhost:8080/"
        },
        "id": "zK3v7jrL1TqV",
        "outputId": "71639183-0ca4-47d3-bfa2-4df1df9b1a22"
      },
      "outputs": [
        {
          "output_type": "execute_result",
          "data": {
            "text/plain": [
              "0.19355593334131074"
            ]
          },
          "metadata": {},
          "execution_count": 4
        }
      ],
      "source": [
        "# Calculate and print the mean here, hint: use np.mean()\n",
        "sample_mean = np.mean(r)\n",
        "sample_mean"
      ]
    },
    {
      "cell_type": "markdown",
      "metadata": {
        "id": "Mc09jyRP1TqV"
      },
      "source": [
        "__Q4:__ What is the standard deviation of these numbers? Calculate this manually here as $\\sqrt{\\frac{\\sum_i(x_i - \\bar{x})^2}{n}}$ (This is just the definition of **standard deviation** given by Professor Spiegelhalter on p.403 of *AoS*). Hint: np.sqrt() and np.sum() will be useful here and remember that numPy supports [broadcasting](https://docs.scipy.org/doc/numpy/user/basics.broadcasting.html)."
      ]
    },
    {
      "cell_type": "markdown",
      "metadata": {
        "id": "V-BWJiZw1TqW"
      },
      "source": [
        "__A:__"
      ]
    },
    {
      "cell_type": "code",
      "execution_count": 9,
      "metadata": {
        "colab": {
          "base_uri": "https://localhost:8080/"
        },
        "id": "wcPxzpun1TqW",
        "outputId": "e48c899b-38c1-4be7-b075-ad06ecd86db5"
      },
      "outputs": [
        {
          "output_type": "execute_result",
          "data": {
            "text/plain": [
              "0.9606195639478641"
            ]
          },
          "metadata": {},
          "execution_count": 9
        }
      ],
      "source": [
        "standard_deviation = np.sqrt  (np.sum((r - sample_mean)**2) / len(r))\n",
        "standard_deviation"
      ]
    },
    {
      "cell_type": "markdown",
      "metadata": {
        "id": "pWNKExwA1TqW"
      },
      "source": [
        "Here we have calculated the actual standard deviation of a small data set (of size 5). But in this case, this small data set is actually a sample from our larger (infinite) population. In this case, the population is infinite because we could keep drawing our normal random variates until our computers die! \n",
        "\n",
        "In general, the sample mean we calculate will not be equal to the population mean (as we saw above). A consequence of this is that the sum of squares of the deviations from the _population_ mean will be bigger than the sum of squares of the deviations from the _sample_ mean. In other words, the sum of squares of the deviations from the _sample_ mean is too small to give an unbiased estimate of the _population_ variance. An example of this effect is given [here](https://en.wikipedia.org/wiki/Bessel%27s_correction#Source_of_bias). Scaling our estimate of the variance by the factor $n/(n-1)$ gives an unbiased estimator of the population variance. This factor is known as [Bessel's correction](https://en.wikipedia.org/wiki/Bessel%27s_correction). The consequence of this is that the $n$ in the denominator is replaced by $n-1$.\n",
        "\n",
        "You can see Bessel's correction reflected in Professor Spiegelhalter's definition of **variance** on p. 405 of *AoS*.\n",
        "\n",
        "__Q5:__ If all we had to go on was our five samples, what would be our best estimate of the population standard deviation? Use Bessel's correction ($n-1$ in the denominator), thus $\\sqrt{\\frac{\\sum_i(x_i - \\bar{x})^2}{n-1}}$."
      ]
    },
    {
      "cell_type": "markdown",
      "metadata": {
        "id": "7cw8kKVP1TqW"
      },
      "source": [
        "__A:__"
      ]
    },
    {
      "cell_type": "code",
      "execution_count": 11,
      "metadata": {
        "colab": {
          "base_uri": "https://localhost:8080/"
        },
        "id": "dV8fIp8y1TqX",
        "outputId": "49964684-db9d-4549-fa8d-d98a37543335"
      },
      "outputs": [
        {
          "output_type": "execute_result",
          "data": {
            "text/plain": [
              "1.0740053227518152"
            ]
          },
          "metadata": {},
          "execution_count": 11
        }
      ],
      "source": [
        "Bessel_corr = np.sqrt  (np.sum((r - sample_mean)**2) / (len(r)-1))\n",
        "Bessel_corr"
      ]
    },
    {
      "cell_type": "markdown",
      "metadata": {
        "id": "chOOG1Xl1TqX"
      },
      "source": [
        "__Q6:__ Now use numpy's std function to calculate the standard deviation of our random samples. Which of the above standard deviations did it return?"
      ]
    },
    {
      "cell_type": "markdown",
      "metadata": {
        "id": "lXHj2_Vj1TqX"
      },
      "source": [
        "__A:__"
      ]
    },
    {
      "cell_type": "code",
      "execution_count": 12,
      "metadata": {
        "colab": {
          "base_uri": "https://localhost:8080/"
        },
        "id": "fYTz1ASa1TqX",
        "outputId": "8104e7ce-fff3-421a-dc66-ae092bb9ef6a"
      },
      "outputs": [
        {
          "output_type": "execute_result",
          "data": {
            "text/plain": [
              "0.9606195639478641"
            ]
          },
          "metadata": {},
          "execution_count": 12
        }
      ],
      "source": [
        "numpy_std = np.std(r)\n",
        "numpy_std"
      ]
    },
    {
      "cell_type": "markdown",
      "metadata": {
        "id": "cwPZuitm1TqX"
      },
      "source": [
        "__Q7:__ Consult the documentation for np.std() to see how to apply the correction for estimating the population parameter and verify this produces the expected result."
      ]
    },
    {
      "cell_type": "markdown",
      "metadata": {
        "id": "D-9Ljzu-1TqX"
      },
      "source": [
        "__A:__"
      ]
    },
    {
      "cell_type": "code",
      "execution_count": 37,
      "metadata": {
        "colab": {
          "base_uri": "https://localhost:8080/"
        },
        "id": "98_Sz8Xq1TqX",
        "outputId": "230741f0-a98a-47b4-f185-6387cd43da57"
      },
      "outputs": [
        {
          "output_type": "execute_result",
          "data": {
            "text/plain": [
              "1.0740053227518152"
            ]
          },
          "metadata": {},
          "execution_count": 37
        }
      ],
      "source": [
        "estimate_population = np.std(r,ddof=1) #ddof = degree of freedom\n",
        "estimate_population"
      ]
    },
    {
      "cell_type": "code",
      "execution_count": null,
      "metadata": {
        "id": "PNjSQM-h1TqY"
      },
      "outputs": [],
      "source": []
    },
    {
      "cell_type": "markdown",
      "metadata": {
        "id": "cn40OHVs1TqY"
      },
      "source": [
        "### Summary of section"
      ]
    },
    {
      "cell_type": "markdown",
      "metadata": {
        "id": "fqX08_8G1TqY"
      },
      "source": [
        "In this section, you've been introduced to the scipy.stats package and used it to draw a small sample from the standard normal distribution. You've calculated the average (the mean) of this sample and seen that this is not exactly equal to the expected population parameter (which we know because we're generating the random variates from a specific, known distribution). You've been introduced to two ways of calculating the standard deviation; one uses $n$ in the denominator and the other uses $n-1$ (Bessel's correction). You've also seen which of these calculations np.std() performs by default and how to get it to generate the other."
      ]
    },
    {
      "cell_type": "markdown",
      "metadata": {
        "id": "ceOV5yV11TqY"
      },
      "source": [
        "You use $n$ as the denominator if you want to calculate the standard deviation of a sequence of numbers. You use $n-1$ if you are using this sequence of numbers to estimate the population parameter. This brings us to some terminology that can be a little confusing.\n",
        "\n",
        "The population parameter is traditionally written as $\\sigma$ and the sample statistic as $s$. Rather unhelpfully, $s$ is also called the sample standard deviation (using $n-1$) whereas the standard deviation of the sample uses $n$. That's right, we have the sample standard deviation and the standard deviation of the sample and they're not the same thing!\n",
        "\n",
        "The sample standard deviation\n",
        "\\begin{equation}\n",
        "s = \\sqrt{\\frac{\\sum_i(x_i - \\bar{x})^2}{n-1}} \\approx \\sigma,\n",
        "\\end{equation}\n",
        "is our best (unbiased) estimate of the population parameter ($\\sigma$).\n",
        "\n",
        "If your dataset _is_ your entire population, you simply want to calculate the population parameter, $\\sigma$, via\n",
        "\\begin{equation}\n",
        "\\sigma = \\sqrt{\\frac{\\sum_i(x_i - \\bar{x})^2}{n}}\n",
        "\\end{equation}\n",
        "as you have complete, full knowledge of your population. In other words, your sample _is_ your population. It's worth noting that we're dealing with what Professor Spiegehalter describes on p. 92 of *AoS* as a **metaphorical population**: we have all the data, and we act as if the data-point is taken from a population at random. We can think of this population as an imaginary space of possibilities. \n",
        "\n",
        "If, however, you have sampled _from_ your population, you only have partial knowledge of the state of your population. In this case, the standard deviation of your sample is not an unbiased estimate of the standard deviation of the population, in which case you seek to estimate that population parameter via the sample standard deviation, which uses the $n-1$ denominator."
      ]
    },
    {
      "cell_type": "markdown",
      "metadata": {
        "id": "Tn11qjsb1TqY"
      },
      "source": [
        "Great work so far! Now let's dive deeper."
      ]
    },
    {
      "cell_type": "markdown",
      "metadata": {
        "id": "dWqHYN3b1TqZ"
      },
      "source": [
        "## 3. Sampling distributions"
      ]
    },
    {
      "cell_type": "markdown",
      "metadata": {
        "id": "QPrzsMSC1TqZ"
      },
      "source": [
        "So far we've been dealing with the concept of taking a sample from a population to infer the population parameters. One statistic we calculated for a sample was the mean. As our samples will be expected to vary from one draw to another, so will our sample statistics. If we were to perform repeat draws of size $n$ and calculate the mean of each, we would expect to obtain a distribution of values. This is the sampling distribution of the mean. **The Central Limit Theorem (CLT)** tells us that such a distribution will approach a normal distribution as $n$ increases (the intuitions behind the CLT are covered in full on p. 236 of *AoS*). For the sampling distribution of the mean, the standard deviation of this distribution is given by\n",
        "\n",
        "\\begin{equation}\n",
        "\\sigma_{mean} = \\frac{\\sigma}{\\sqrt n}\n",
        "\\end{equation}\n",
        "\n",
        "where $\\sigma_{mean}$ is the standard deviation of the sampling distribution of the mean and $\\sigma$ is the standard deviation of the population (the population parameter)."
      ]
    },
    {
      "cell_type": "markdown",
      "metadata": {
        "id": "U6fa4Co61TqZ"
      },
      "source": [
        "This is important because typically we are dealing with samples from populations and all we know about the population is what we see in the sample. From this sample, we want to make inferences about the population. We may do this, for example, by looking at the histogram of the values and by calculating the mean and standard deviation (as estimates of the population parameters), and so we are intrinsically interested in how these quantities vary across samples. \n",
        "\n",
        "In other words, now that we've taken one sample of size $n$ and made some claims about the general population, what if we were to take another sample of size $n$? Would we get the same result? Would we make the same claims about the general population? This brings us to a fundamental question: _when we make some inference about a population based on our sample, how confident can we be that we've got it 'right'?_\n",
        "\n",
        "We need to think about **estimates and confidence intervals**: those concepts covered in Chapter 7, p. 189, of *AoS*."
      ]
    },
    {
      "cell_type": "markdown",
      "metadata": {
        "id": "elU5u4g31TqZ"
      },
      "source": [
        "Now, the standard normal distribution (with its variance equal to its standard deviation of one) would not be a great illustration of a key point. Instead, let's imagine we live in a town of 50,000 people and we know the height of everyone in this town. We will have 50,000 numbers that tell us everything about our population. We'll simulate these numbers now and put ourselves in one particular town, called 'town 47', where the population mean height is 172 cm and population standard deviation is 5 cm."
      ]
    },
    {
      "cell_type": "code",
      "execution_count": 14,
      "metadata": {
        "id": "3MpSS8oO1Tqa"
      },
      "outputs": [],
      "source": [
        "seed(47)\n",
        "pop_heights = norm.rvs(172, 5, size=50000)"
      ]
    },
    {
      "cell_type": "code",
      "execution_count": 15,
      "metadata": {
        "colab": {
          "base_uri": "https://localhost:8080/",
          "height": 295
        },
        "id": "PTcD9U231Tqa",
        "outputId": "34929cf1-a1b1-436d-a15d-ad5e80a5741a"
      },
      "outputs": [
        {
          "output_type": "display_data",
          "data": {
            "text/plain": [
              "<Figure size 432x288 with 1 Axes>"
            ],
            "image/png": "[encoded data removed]"
          },
          "metadata": {
            "needs_background": "light"
          }
        }
      ],
      "source": [
        "_ = plt.hist(pop_heights, bins=30)\n",
        "_ = plt.xlabel('height (cm)')\n",
        "_ = plt.ylabel('number of people')\n",
        "_ = plt.title('Distribution of heights in entire town population')\n",
        "_ = plt.axvline(172, color='r')\n",
        "_ = plt.axvline(172+5, color='r', linestyle='--')\n",
        "_ = plt.axvline(172-5, color='r', linestyle='--')\n",
        "_ = plt.axvline(172+10, color='r', linestyle='-.')\n",
        "_ = plt.axvline(172-10, color='r', linestyle='-.')"
      ]
    },
    {
      "cell_type": "markdown",
      "metadata": {
        "id": "hOXQEaaE1Tqb"
      },
      "source": [
        "Now, 50,000 people is rather a lot to chase after with a tape measure. If all you want to know is the average height of the townsfolk, then can you just go out and measure a sample to get a pretty good estimate of the average height?"
      ]
    },
    {
      "cell_type": "code",
      "execution_count": 16,
      "metadata": {
        "id": "DUto2dNa1Tqc"
      },
      "outputs": [],
      "source": [
        "def townsfolk_sampler(n):\n",
        "    return np.random.choice(pop_heights, n)"
      ]
    },
    {
      "cell_type": "markdown",
      "metadata": {
        "id": "SXlNQlnu1Tqc"
      },
      "source": [
        "Let's say you go out one day and randomly sample 10 people to measure."
      ]
    },
    {
      "cell_type": "code",
      "execution_count": 17,
      "metadata": {
        "id": "pV-WBPTR1Tqc"
      },
      "outputs": [],
      "source": [
        "seed(47)\n",
        "daily_sample1 = townsfolk_sampler(10)"
      ]
    },
    {
      "cell_type": "code",
      "execution_count": 18,
      "metadata": {
        "colab": {
          "base_uri": "https://localhost:8080/",
          "height": 295
        },
        "id": "2WP5MTm61Tqc",
        "outputId": "496d728f-5705-4dd8-ab22-0ab14fc814f3"
      },
      "outputs": [
        {
          "output_type": "display_data",
          "data": {
            "text/plain": [
              "<Figure size 432x288 with 1 Axes>"
            ],
            "image/png": "[encoded data removed]"
          },
          "metadata": {
            "needs_background": "light"
          }
        }
      ],
      "source": [
        "_ = plt.hist(daily_sample1, bins=10)\n",
        "_ = plt.xlabel('height (cm)')\n",
        "_ = plt.ylabel('number of people')\n",
        "_ = plt.title('Distribution of heights in sample size 10')"
      ]
    },
    {
      "cell_type": "markdown",
      "metadata": {
        "id": "SBfbnOnW1Tqc"
      },
      "source": [
        "The sample distribution doesn't resemble what we take the population distribution to be. What do we get for the mean?"
      ]
    },
    {
      "cell_type": "code",
      "execution_count": 19,
      "metadata": {
        "colab": {
          "base_uri": "https://localhost:8080/"
        },
        "id": "cE3w0Guq1Tqd",
        "outputId": "ff8e06ad-01ca-4e22-b404-900a0ff0f591"
      },
      "outputs": [
        {
          "output_type": "execute_result",
          "data": {
            "text/plain": [
              "173.47911444163503"
            ]
          },
          "metadata": {},
          "execution_count": 19
        }
      ],
      "source": [
        "np.mean(daily_sample1)"
      ]
    },
    {
      "cell_type": "markdown",
      "metadata": {
        "id": "e4XepCqQ1Tqd"
      },
      "source": [
        "And if we went out and repeated this experiment?"
      ]
    },
    {
      "cell_type": "code",
      "execution_count": 20,
      "metadata": {
        "id": "gD9zQufp1Tqd"
      },
      "outputs": [],
      "source": [
        "daily_sample2 = townsfolk_sampler(10)"
      ]
    },
    {
      "cell_type": "code",
      "execution_count": 21,
      "metadata": {
        "colab": {
          "base_uri": "https://localhost:8080/"
        },
        "id": "waytyvu31Tqd",
        "outputId": "19aa94b5-be5e-44c9-ed9b-7507747e68f0"
      },
      "outputs": [
        {
          "output_type": "execute_result",
          "data": {
            "text/plain": [
              "173.7317666636263"
            ]
          },
          "metadata": {},
          "execution_count": 21
        }
      ],
      "source": [
        "np.mean(daily_sample2)"
      ]
    },
    {
      "cell_type": "markdown",
      "metadata": {
        "id": "3a1fa5U01Tqd"
      },
      "source": [
        "__Q8:__ Simulate performing this random trial every day for a year, calculating the mean of each daily sample of 10, and plot the resultant sampling distribution of the mean."
      ]
    },
    {
      "cell_type": "markdown",
      "metadata": {
        "id": "xvDspmKF1Tqe"
      },
      "source": [
        "__A:__"
      ]
    },
    {
      "cell_type": "code",
      "execution_count": 23,
      "metadata": {
        "colab": {
          "base_uri": "https://localhost:8080/"
        },
        "id": "DeVt0KLY1Tqe",
        "outputId": "051d7a25-d5f3-4f19-88ee-bfa0aa1895c9"
      },
      "outputs": [
        {
          "output_type": "execute_result",
          "data": {
            "text/plain": [
              "[173.47911444163503,\n",
              " 173.7317666636263,\n",
              " 172.54893867276104,\n",
              " 171.43257319553967,\n",
              " 172.7151613148319,\n",
              " 172.82799509412092,\n",
              " 172.72104620090087,\n",
              " 171.35684251559897,\n",
              " 172.06082915612325,\n",
              " 175.02116165843373,\n",
              " 172.87297442836729,\n",
              " 173.10695709894807,\n",
              " 174.28251319331625,\n",
              " 172.16799412617846,\n",
              " 172.2677166306168,\n",
              " 174.1148759511088,\n",
              " 173.76989560652873,\n",
              " 173.53587661697912,\n",
              " 171.73109636549412,\n",
              " 173.6192933521118,\n",
              " 171.4122703231149,\n",
              " 169.8912622859572,\n",
              " 171.50855064552047,\n",
              " 170.79777102526515,\n",
              " 172.13293591535268,\n",
              " 174.04237966386012,\n",
              " 171.41699712312,\n",
              " 169.68751210980005,\n",
              " 170.70138979236123,\n",
              " 170.50288822335273,\n",
              " 171.1227335807866,\n",
              " 172.18184913764566,\n",
              " 172.68945746436543,\n",
              " 171.0001004904461,\n",
              " 170.89451146667253,\n",
              " 171.09020297014567,\n",
              " 171.25533609966612,\n",
              " 172.10797845540236,\n",
              " 171.08827013545948,\n",
              " 172.6513531230999,\n",
              " 175.070689805427,\n",
              " 169.97597644140453,\n",
              " 172.2797674841427,\n",
              " 169.68001261485807,\n",
              " 172.80409332096238,\n",
              " 172.55229420480956,\n",
              " 173.83054118621465,\n",
              " 173.37568836233626,\n",
              " 171.89359355779794,\n",
              " 171.6665742212276,\n",
              " 169.9004743876151,\n",
              " 172.72984382291025,\n",
              " 169.46043079819069,\n",
              " 171.9066883458138,\n",
              " 174.31024504533102,\n",
              " 172.9549236584936,\n",
              " 170.26013472404284,\n",
              " 171.62782407697222,\n",
              " 171.93287814147618,\n",
              " 172.67107823125573,\n",
              " 173.35560534761376,\n",
              " 171.5928923513852,\n",
              " 174.01996330433786,\n",
              " 168.70526103039566,\n",
              " 174.4291544932485,\n",
              " 172.99782989083792,\n",
              " 169.85679627411287,\n",
              " 170.51072224889845,\n",
              " 169.90321605710665,\n",
              " 170.15223960286718,\n",
              " 171.69847097209998,\n",
              " 172.1247564115574,\n",
              " 170.7393421379653,\n",
              " 169.418394777909,\n",
              " 172.90126387627427,\n",
              " 173.349965975603,\n",
              " 172.31408857482649,\n",
              " 170.95008031433505,\n",
              " 168.6026063397666,\n",
              " 169.23740477644245,\n",
              " 168.98395307845203,\n",
              " 170.24977041291908,\n",
              " 172.28866881866844,\n",
              " 169.4954901013438,\n",
              " 172.14048141305437,\n",
              " 170.63029872192917,\n",
              " 170.81450578452282,\n",
              " 172.7564010423859,\n",
              " 172.270704952318,\n",
              " 172.75102003444198,\n",
              " 170.29337424391514,\n",
              " 171.37511929823515,\n",
              " 171.19824057530133,\n",
              " 175.6782843800554,\n",
              " 169.98345772406594,\n",
              " 171.97617797193666,\n",
              " 170.56013527190584,\n",
              " 171.50909868435141,\n",
              " 172.75712339394886,\n",
              " 173.2095114832777,\n",
              " 172.10653392996448,\n",
              " 173.14812711662768,\n",
              " 170.10688635551668,\n",
              " 173.3757843013828,\n",
              " 172.1393269463663,\n",
              " 169.68126101129226,\n",
              " 173.51940617466894,\n",
              " 170.64933192553676,\n",
              " 172.9302606791998,\n",
              " 171.55990939669806,\n",
              " 171.92304718402258,\n",
              " 173.64455234145223,\n",
              " 171.97230993627605,\n",
              " 171.4139294230426,\n",
              " 173.09648158348617,\n",
              " 171.59077758086715,\n",
              " 172.02580024296842,\n",
              " 172.21608501143896,\n",
              " 172.0071934611132,\n",
              " 172.33599701625351,\n",
              " 171.028648188148,\n",
              " 173.3730965923039,\n",
              " 171.63339660555894,\n",
              " 172.24280703841163,\n",
              " 170.96259686809128,\n",
              " 175.03094575416975,\n",
              " 173.6428041806974,\n",
              " 172.95723098557428,\n",
              " 171.9821148360482,\n",
              " 172.86230119411863,\n",
              " 173.2818959291762,\n",
              " 170.74391386736906,\n",
              " 171.85618466569377,\n",
              " 174.516404929308,\n",
              " 171.9757816604739,\n",
              " 172.8532356879273,\n",
              " 170.8863347896039,\n",
              " 172.02699101055003,\n",
              " 171.00702877519421,\n",
              " 174.4668408638607,\n",
              " 167.8482928708372,\n",
              " 170.87326329719744,\n",
              " 172.24076331599596,\n",
              " 174.06036645523105,\n",
              " 173.65199868699432,\n",
              " 171.31020238919996,\n",
              " 172.8757717751434,\n",
              " 169.00973760863025,\n",
              " 169.36066339463133,\n",
              " 172.8394581127686,\n",
              " 173.2849490876725,\n",
              " 167.94708299375463,\n",
              " 171.4944813760528,\n",
              " 173.26676195725375,\n",
              " 174.36603867262343,\n",
              " 169.3835107781193,\n",
              " 170.81702577580646,\n",
              " 172.65881074097973,\n",
              " 170.5043935231086,\n",
              " 174.48530539837125,\n",
              " 169.28374480528095,\n",
              " 173.11587199242774,\n",
              " 169.48869927808207,\n",
              " 174.05802462897157,\n",
              " 170.41037396562533,\n",
              " 170.3850832762101,\n",
              " 171.14614333175618,\n",
              " 171.28870072653964,\n",
              " 172.76671420430083,\n",
              " 169.95471759650735,\n",
              " 172.86382182013728,\n",
              " 172.6225511373559,\n",
              " 172.33656268781826,\n",
              " 168.62332166556928,\n",
              " 172.7111357521249,\n",
              " 171.82186352481727,\n",
              " 173.28085693950445,\n",
              " 169.06595378147523,\n",
              " 174.0801392411933,\n",
              " 174.9773349255948,\n",
              " 171.28213572811805,\n",
              " 171.6730813592417,\n",
              " 169.45634682144438,\n",
              " 173.43393215657332,\n",
              " 170.86374559269453,\n",
              " 173.21556904620837,\n",
              " 169.1862678724352,\n",
              " 171.20026812399502,\n",
              " 171.47106714440469,\n",
              " 173.32428817479482,\n",
              " 171.2691694937409,\n",
              " 169.74157082970493,\n",
              " 172.91823143229223,\n",
              " 171.78081907440483,\n",
              " 170.11860847293156,\n",
              " 171.87026079537708,\n",
              " 170.74069830935466,\n",
              " 172.46488874903895,\n",
              " 172.98225023418647,\n",
              " 174.46081103471732,\n",
              " 173.49400936370455,\n",
              " 169.51557464300683,\n",
              " 171.73063129611373,\n",
              " 170.7169353336031,\n",
              " 174.6602048576773,\n",
              " 172.3849780185491,\n",
              " 172.79482744498335,\n",
              " 172.66798523120897,\n",
              " 173.03683236655385,\n",
              " 169.03388574785288,\n",
              " 170.27625725905142,\n",
              " 171.6548397802826,\n",
              " 173.9110065626827,\n",
              " 172.36666043469813,\n",
              " 173.0806786048489,\n",
              " 170.5454321114398,\n",
              " 171.63218644552478,\n",
              " 173.75734815005714,\n",
              " 173.4663602192376,\n",
              " 173.93185477413437,\n",
              " 172.21851080918435,\n",
              " 174.99259084185877,\n",
              " 172.79446184726748,\n",
              " 171.51052052455086,\n",
              " 173.24255009028505,\n",
              " 171.8830523292385,\n",
              " 172.78335534863947,\n",
              " 171.91694787219325,\n",
              " 170.12924519370299,\n",
              " 171.6125036310404,\n",
              " 172.90245069941636,\n",
              " 173.09703321285585,\n",
              " 172.13187273881533,\n",
              " 173.1671394346884,\n",
              " 170.08389854480225,\n",
              " 173.93739863468136,\n",
              " 171.3831801935383,\n",
              " 173.0648792145468,\n",
              " 171.67286845324548,\n",
              " 172.74454332610662,\n",
              " 170.29325491672353,\n",
              " 168.50440626366915,\n",
              " 172.52943025832766,\n",
              " 168.22985199166658,\n",
              " 173.63375684095035,\n",
              " 173.8223904901435,\n",
              " 170.64928888578683,\n",
              " 171.7803289727296,\n",
              " 169.31058690937567,\n",
              " 170.90044256609488,\n",
              " 172.67827045507593,\n",
              " 172.0422309421312,\n",
              " 173.17659183674408,\n",
              " 169.49895501607463,\n",
              " 172.8853684043484,\n",
              " 173.3982671958468,\n",
              " 169.6718344723641,\n",
              " 169.3434812632541,\n",
              " 175.1631703883851,\n",
              " 170.59481340389107,\n",
              " 170.58426243494063,\n",
              " 172.72334025117496,\n",
              " 172.1307888143033,\n",
              " 169.01609630447473,\n",
              " 171.15681558897592,\n",
              " 174.684931280434,\n",
              " 169.29446475103575,\n",
              " 171.65686646102714,\n",
              " 173.8172097345154,\n",
              " 170.72391555094927,\n",
              " 170.5159267446483,\n",
              " 174.0926258645925,\n",
              " 168.74354262686796,\n",
              " 171.60449755276952,\n",
              " 173.35249290348906,\n",
              " 169.59524622005407,\n",
              " 172.31825115793964,\n",
              " 173.43051530494725,\n",
              " 175.97945459508188,\n",
              " 172.41542957870462,\n",
              " 172.48108913345823,\n",
              " 175.73235560113446,\n",
              " 173.30917671705808,\n",
              " 170.5016307174128,\n",
              " 171.47442800822694,\n",
              " 172.921116303701,\n",
              " 171.1639042540142,\n",
              " 173.15958685889186,\n",
              " 170.6199464194715,\n",
              " 170.84177739176616,\n",
              " 171.99038709269252,\n",
              " 174.23130175705404,\n",
              " 170.4855060493516,\n",
              " 172.02085224658146,\n",
              " 172.08650337240257,\n",
              " 173.12384811687497,\n",
              " 170.09817772721084,\n",
              " 171.4714587067785,\n",
              " 172.78753151796303,\n",
              " 172.85937740574727,\n",
              " 169.39067373385993,\n",
              " 172.88433436767303,\n",
              " 172.09661414856313,\n",
              " 172.27425697400423,\n",
              " 170.7114548591524,\n",
              " 172.19296597942235,\n",
              " 167.52865965907253,\n",
              " 172.32570464261443,\n",
              " 172.72742669079858,\n",
              " 172.5216957174198,\n",
              " 172.05940736419612,\n",
              " 168.8771648188222,\n",
              " 170.44810196307384,\n",
              " 173.01149455582384,\n",
              " 172.52292732563117,\n",
              " 169.7669347411906,\n",
              " 169.465402331526,\n",
              " 173.02223016664223,\n",
              " 170.27061511503928,\n",
              " 171.18421420659692,\n",
              " 173.06750477700962,\n",
              " 173.43258352486112,\n",
              " 171.82939845035773,\n",
              " 170.92672944980677,\n",
              " 169.81785832026858,\n",
              " 171.92871073981357,\n",
              " 170.34135388864743,\n",
              " 169.05442315458353,\n",
              " 172.84601765466334,\n",
              " 171.73522189318317,\n",
              " 169.2123811879794,\n",
              " 172.29730173923366,\n",
              " 169.99961438919348,\n",
              " 170.02830791269838,\n",
              " 171.75064789746975,\n",
              " 170.766935167691,\n",
              " 173.9810026650127,\n",
              " 169.92358516806348,\n",
              " 174.53205578998305,\n",
              " 173.21890262201072,\n",
              " 174.25370792104414,\n",
              " 172.91850748641357,\n",
              " 172.6887688830941,\n",
              " 172.064319088991,\n",
              " 169.88770099269323,\n",
              " 171.46079489790765,\n",
              " 171.48307828152147,\n",
              " 172.59879898682084,\n",
              " 172.37504542447692,\n",
              " 168.70639919115436,\n",
              " 172.76066642690037,\n",
              " 171.6634185490236,\n",
              " 173.98434386877807,\n",
              " 171.42827851034042,\n",
              " 171.77118445785496,\n",
              " 169.17922506646468,\n",
              " 173.782895546607,\n",
              " 170.82035700816542,\n",
              " 170.98291389030948,\n",
              " 172.02218170287054,\n",
              " 173.20080178649226,\n",
              " 172.85589043208137,\n",
              " 171.9024897421873,\n",
              " 170.45743937442882,\n",
              " 171.64487927395743]"
            ]
          },
          "metadata": {},
          "execution_count": 23
        }
      ],
      "source": [
        "seed(47)\n",
        "# take your samples here\n",
        "\n",
        "sample_means = []\n",
        "for i in range(365):\n",
        "    new_sample = townsfolk_sampler(10)\n",
        "    sample_mean = np.mean(new_sample)\n",
        "    sample_means.append(sample_mean)\n",
        "    \n",
        "sample_means\n"
      ]
    },
    {
      "cell_type": "code",
      "source": [
        "plt.hist(sample_means)"
      ],
      "metadata": {
        "colab": {
          "base_uri": "https://localhost:8080/",
          "height": 352
        },
        "id": "KAo2sGda-3tA",
        "outputId": "72c2c87c-8f42-4dc1-f43e-bea987f3da92"
      },
      "execution_count": 31,
      "outputs": [
        {
          "output_type": "execute_result",
          "data": {
            "text/plain": [
              "(array([ 4., 16., 35., 49., 58., 69., 83., 32., 15.,  4.]),\n",
              " array([167.52865966, 168.37373915, 169.21881865, 170.06389814,\n",
              "        170.90897763, 171.75405713, 172.59913662, 173.44421611,\n",
              "        174.28929561, 175.1343751 , 175.9794546 ]),\n",
              " <a list of 10 Patch objects>)"
            ]
          },
          "metadata": {},
          "execution_count": 31
        },
        {
          "output_type": "display_data",
          "data": {
            "text/plain": [
              "<Figure size 432x288 with 1 Axes>"
            ],
            "image/png": "[encoded data removed]"
          },
          "metadata": {
            "needs_background": "light"
          }
        }
      ]
    },
    {
      "cell_type": "code",
      "execution_count": 29,
      "metadata": {
        "colab": {
          "base_uri": "https://localhost:8080/",
          "height": 300
        },
        "id": "HBPBk_Rg1Tqe",
        "outputId": "217385d0-42ac-4ffb-9f4b-8c66d9f82e0e"
      },
      "outputs": [
        {
          "output_type": "display_data",
          "data": {
            "text/plain": [
              "<Figure size 432x288 with 1 Axes>"
            ],
            "image/png": "[encoded data removed]"
          },
          "metadata": {
            "needs_background": "light"
          }
        }
      ],
      "source": [
        "_ = plt.hist(sample_means, bins=10)   #bins = number of intervals to be created\n",
        "_ = plt.xlabel('Mean Height (centimetres)', size = 14)\n",
        "_ = plt.ylabel('Number of People', size = 14)\n",
        "_ = plt.title('Distribution of mean of Samples of Size 10', size = 14)"
      ]
    },
    {
      "cell_type": "markdown",
      "metadata": {
        "id": "cVNIQDYB1Tqe"
      },
      "source": [
        "The above is the distribution of the means of samples of size 10 taken from our population. The Central Limit Theorem tells us the expected mean of this distribution will be equal to the population mean, and standard deviation will be $\\sigma / \\sqrt n$, which, in this case, should be approximately 1.58."
      ]
    },
    {
      "cell_type": "markdown",
      "metadata": {
        "id": "OMLFcysP1Tqe"
      },
      "source": [
        "__Q9:__ Verify the above results from the CLT."
      ]
    },
    {
      "cell_type": "markdown",
      "metadata": {
        "id": "BPrITZmH1Tqe"
      },
      "source": [
        "__A:__"
      ]
    },
    {
      "cell_type": "code",
      "execution_count": 35,
      "metadata": {
        "colab": {
          "base_uri": "https://localhost:8080/"
        },
        "id": "fxT5MbKC1Tqf",
        "outputId": "8a6507de-f93b-4644-999f-12d1832ef1b8"
      },
      "outputs": [
        {
          "output_type": "execute_result",
          "data": {
            "text/plain": [
              "1.5756704135286475"
            ]
          },
          "metadata": {},
          "execution_count": 35
        }
      ],
      "source": [
        "town_sample_std = np.std(sample_means)\n",
        "town_sample_std\n"
      ]
    },
    {
      "cell_type": "code",
      "execution_count": 35,
      "metadata": {
        "id": "GrEoU4K11Tqf"
      },
      "outputs": [],
      "source": []
    },
    {
      "cell_type": "markdown",
      "metadata": {
        "id": "TJp-zF3f1Tqf"
      },
      "source": [
        "Remember, in this instance, we knew our population parameters, that the average height really is 172 cm and the standard deviation is 5 cm, and we see some of our daily estimates of the population mean were as low as around 168 and some as high as 176."
      ]
    },
    {
      "cell_type": "markdown",
      "metadata": {
        "id": "wukUhhMZ1Tqf"
      },
      "source": [
        "__Q10:__ Repeat the above year's worth of samples but for a sample size of 50 (perhaps you had a bigger budget for conducting surveys that year)! Would you expect your distribution of sample means to be wider (more variable) or narrower (more consistent)? Compare your resultant summary statistics to those predicted by the CLT."
      ]
    },
    {
      "cell_type": "markdown",
      "metadata": {
        "id": "Vztm-GCk1Tqf"
      },
      "source": [
        "__A:__"
      ]
    },
    {
      "cell_type": "code",
      "execution_count": 40,
      "metadata": {
        "colab": {
          "base_uri": "https://localhost:8080/"
        },
        "id": "aoNRMfcZ1Tqf",
        "outputId": "b0f940a3-0b3b-4935-dab7-2090b47dc2d7"
      },
      "outputs": [
        {
          "output_type": "execute_result",
          "data": {
            "text/plain": [
              "[172.7815108576788,\n",
              " 172.79757492503552,\n",
              " 172.9396310954854,\n",
              " 173.3542075784445,\n",
              " 171.1485580390421,\n",
              " 171.27023338249884,\n",
              " 171.57773042798325,\n",
              " 171.63862815675472,\n",
              " 171.96210793335894,\n",
              " 172.66373830647717,\n",
              " 171.6615364799722,\n",
              " 171.88936776644812,\n",
              " 172.4205753053962,\n",
              " 170.68416081476462,\n",
              " 171.37644563516122,\n",
              " 170.89082919619474,\n",
              " 170.63167276488755,\n",
              " 171.84458610711957,\n",
              " 171.7056952443146,\n",
              " 172.0024093610841,\n",
              " 172.17533172997156,\n",
              " 171.66803383747916,\n",
              " 172.41006409365593,\n",
              " 172.03517066252826,\n",
              " 171.84810905850273,\n",
              " 173.29507939012166,\n",
              " 172.47483621040422,\n",
              " 172.24808622542724,\n",
              " 171.7349369252512,\n",
              " 171.0791666560747,\n",
              " 172.0718628174714,\n",
              " 171.56980924327706,\n",
              " 171.27134293407755,\n",
              " 171.10827182706282,\n",
              " 171.83147861260113,\n",
              " 172.64522968251705,\n",
              " 171.34184833161441,\n",
              " 171.67949207236762,\n",
              " 171.1656798606149,\n",
              " 172.50378182453488,\n",
              " 172.02347109882115,\n",
              " 171.98370176182962,\n",
              " 172.25788852831275,\n",
              " 172.66663634007872,\n",
              " 172.95172682262927,\n",
              " 171.6650208749629,\n",
              " 172.27647892611563,\n",
              " 172.56057396442372,\n",
              " 170.63814005426747,\n",
              " 171.2926075648261,\n",
              " 172.05628333087486,\n",
              " 171.63431334474822,\n",
              " 171.12226067877384,\n",
              " 172.0354775555923,\n",
              " 171.66181713847348,\n",
              " 172.74777937134553,\n",
              " 172.69973603545813,\n",
              " 171.7412662455689,\n",
              " 172.16291010361644,\n",
              " 172.0680786949149,\n",
              " 171.47146681665058,\n",
              " 171.45929053786557,\n",
              " 171.38381920550947,\n",
              " 170.74187931219902,\n",
              " 171.81481490446072,\n",
              " 171.1811454661782,\n",
              " 170.65765062531491,\n",
              " 172.48449628255221,\n",
              " 172.3626008744472,\n",
              " 171.3248233563762,\n",
              " 172.32157836257954,\n",
              " 171.3575146428834,\n",
              " 172.01230012182947,\n",
              " 171.45586797475937,\n",
              " 172.60832644769337,\n",
              " 172.90923064763888,\n",
              " 171.8232960400748,\n",
              " 172.02353512146678,\n",
              " 172.69244683833068,\n",
              " 172.5943354823301,\n",
              " 171.99559210545397,\n",
              " 170.88697444561848,\n",
              " 171.1287369020899,\n",
              " 173.3049050979804,\n",
              " 172.69005486736165,\n",
              " 171.31418515136443,\n",
              " 171.93620537662483,\n",
              " 170.84661950770945,\n",
              " 171.9420815386141,\n",
              " 172.7083537460361,\n",
              " 172.1068195680666,\n",
              " 172.08204873872012,\n",
              " 172.0857165025829,\n",
              " 172.28737626070964,\n",
              " 172.04409392625038,\n",
              " 171.72714932124234,\n",
              " 171.6108994453248,\n",
              " 171.40343323871966,\n",
              " 172.30606391429757,\n",
              " 173.14332165770466,\n",
              " 172.27657327770484,\n",
              " 171.86275141603662,\n",
              " 171.50224664098383,\n",
              " 170.07952858877113,\n",
              " 172.5189009341571,\n",
              " 171.22251422041813,\n",
              " 172.67348326757946,\n",
              " 171.3293814179121,\n",
              " 171.00380509699332,\n",
              " 172.04855887469952,\n",
              " 172.35372679227385,\n",
              " 170.67921568704617,\n",
              " 172.99986959212052,\n",
              " 172.26329470364595,\n",
              " 172.0372815194926,\n",
              " 172.35291480579843,\n",
              " 172.11903049105516,\n",
              " 172.0066044678251,\n",
              " 172.46448231204985,\n",
              " 172.4842815283576,\n",
              " 173.0169980361144,\n",
              " 170.89881785435747,\n",
              " 171.42254596527545,\n",
              " 171.37289809789033,\n",
              " 171.2414752854563,\n",
              " 172.86603311439686,\n",
              " 172.39453776258665,\n",
              " 171.30716428108641,\n",
              " 171.4019540281487,\n",
              " 172.76196180965368,\n",
              " 172.32905324065024,\n",
              " 172.3554490722028,\n",
              " 172.5489706719045,\n",
              " 172.98899631619722,\n",
              " 171.2300829660369,\n",
              " 171.7600764723803,\n",
              " 171.15894560780814,\n",
              " 172.2999306331501,\n",
              " 171.83028602099984,\n",
              " 171.32862238423687,\n",
              " 170.77936767894244,\n",
              " 172.36292504264466,\n",
              " 172.0627351161584,\n",
              " 172.4572213189606,\n",
              " 171.47259301389403,\n",
              " 172.70448049640206,\n",
              " 170.9033793774536,\n",
              " 171.4977384620653,\n",
              " 171.92281752488395,\n",
              " 172.86154988875325,\n",
              " 172.8406753273718,\n",
              " 171.93324378922023,\n",
              " 171.74883388697694,\n",
              " 171.98380721046607,\n",
              " 171.46917463958798,\n",
              " 172.6146893473156,\n",
              " 172.91164033636466,\n",
              " 173.15753287968465,\n",
              " 172.27759829362836,\n",
              " 171.6774296769677,\n",
              " 171.54975020959088,\n",
              " 171.18582241213085,\n",
              " 171.66755046501711,\n",
              " 172.41658296742696,\n",
              " 173.04107187033074,\n",
              " 172.82076706195545,\n",
              " 171.46704286023976,\n",
              " 172.96233338098062,\n",
              " 172.12934776128904,\n",
              " 172.08330964582936,\n",
              " 171.8006916652453,\n",
              " 172.34308489334754,\n",
              " 171.88215305794077,\n",
              " 171.1559085024102,\n",
              " 171.85364449530417,\n",
              " 172.93460329977185,\n",
              " 173.18000857755993,\n",
              " 171.63724982728382,\n",
              " 173.4162760941612,\n",
              " 171.45107342933244,\n",
              " 170.76490777374693,\n",
              " 171.6380925465537,\n",
              " 171.74032428812748,\n",
              " 173.80301248510375,\n",
              " 171.74462296299367,\n",
              " 173.6235349342996,\n",
              " 171.2647502513369,\n",
              " 172.06979893037817,\n",
              " 172.17030823278597,\n",
              " 170.44348581706814,\n",
              " 172.73644707827924,\n",
              " 172.19090153359073,\n",
              " 170.6578604779148,\n",
              " 172.10099771905325,\n",
              " 171.71531553821683,\n",
              " 171.97867899672087,\n",
              " 171.99897228560974,\n",
              " 172.4364591414134,\n",
              " 171.1243322935377,\n",
              " 172.03204756684772,\n",
              " 171.30211257997559,\n",
              " 172.00669486226315,\n",
              " 172.38311872523292,\n",
              " 171.33568707613824,\n",
              " 171.33985719376716,\n",
              " 171.95870433759694,\n",
              " 171.1496261610421,\n",
              " 172.5782952059696,\n",
              " 172.42033433556662,\n",
              " 171.54928742914416,\n",
              " 172.5723730532069,\n",
              " 171.56614037303956,\n",
              " 171.37921101331048,\n",
              " 171.52449936229027,\n",
              " 171.33306899210882,\n",
              " 171.82625547275902,\n",
              " 171.44376529985166,\n",
              " 171.9873267301407,\n",
              " 172.0094762498349,\n",
              " 172.81511936308092,\n",
              " 171.91731067977227,\n",
              " 172.0977196544409,\n",
              " 172.32574513267085,\n",
              " 172.60347671265737,\n",
              " 172.44053362590222,\n",
              " 170.7468452174613,\n",
              " 170.98868067184708,\n",
              " 171.84561306662016,\n",
              " 171.8761956044929,\n",
              " 173.16669451210873,\n",
              " 171.758230409592,\n",
              " 172.31744287207303,\n",
              " 172.26066373967592,\n",
              " 172.90387119314428,\n",
              " 172.1542094707465,\n",
              " 172.41611963294156,\n",
              " 170.69078115925237,\n",
              " 172.74649501887535,\n",
              " 171.07615434950935,\n",
              " 172.02698832176975,\n",
              " 172.00554677262645,\n",
              " 172.74745263250585,\n",
              " 171.65945615758167,\n",
              " 172.42931787037676,\n",
              " 171.31139266156774,\n",
              " 172.86340638614564,\n",
              " 172.63046912414976,\n",
              " 171.90607197945067,\n",
              " 170.72003646709956,\n",
              " 172.10949275660838,\n",
              " 171.45152053467376,\n",
              " 171.86770717358283,\n",
              " 171.39371405813117,\n",
              " 172.14407557961246,\n",
              " 171.86145845615715,\n",
              " 171.0643157579227,\n",
              " 171.11107165580725,\n",
              " 171.97515142159185,\n",
              " 172.2507452119935,\n",
              " 172.1856139091256,\n",
              " 172.4867254532553,\n",
              " 172.62914954558713,\n",
              " 172.8416069041034,\n",
              " 172.95766914878197,\n",
              " 173.10461610473183,\n",
              " 171.41466281567926,\n",
              " 171.89091850205338,\n",
              " 171.91765493682541,\n",
              " 171.3856728570194,\n",
              " 172.5580115051518,\n",
              " 170.83751768580808,\n",
              " 172.60219501605832,\n",
              " 171.7505797307657,\n",
              " 171.9617303911309,\n",
              " 171.84660491414547,\n",
              " 172.35776791909186,\n",
              " 171.2458779978962,\n",
              " 171.93438007088704,\n",
              " 171.8606276617006,\n",
              " 171.84556709017835,\n",
              " 171.44970933561854,\n",
              " 172.74576860936187,\n",
              " 170.38777847996414,\n",
              " 172.3466863540159,\n",
              " 172.8038464437931,\n",
              " 171.91877900815456,\n",
              " 172.66506616836838,\n",
              " 170.78590101157235,\n",
              " 172.11850648936783,\n",
              " 170.75665956609814,\n",
              " 171.7151020651713,\n",
              " 172.10742863250215,\n",
              " 172.51206031029852,\n",
              " 171.65287206192647,\n",
              " 172.55011484163367,\n",
              " 171.80014021314176,\n",
              " 171.68322902960838,\n",
              " 171.72240274574912,\n",
              " 171.58157929787114,\n",
              " 172.89233455637458,\n",
              " 171.35548749762108,\n",
              " 171.21277983252344,\n",
              " 172.50712890942086,\n",
              " 170.60810840182512,\n",
              " 172.58764074576774,\n",
              " 172.59321378019294,\n",
              " 172.75315782350623,\n",
              " 171.78472781834543,\n",
              " 170.56401239103522,\n",
              " 172.65025382629744,\n",
              " 172.50016154070934,\n",
              " 171.01133751509252,\n",
              " 171.89707218069572,\n",
              " 171.39777017939866,\n",
              " 171.5888706941444,\n",
              " 172.17453748533066,\n",
              " 172.5422328160275,\n",
              " 171.25478419429447,\n",
              " 171.48147133549224,\n",
              " 171.46642822745997,\n",
              " 171.58713991008008,\n",
              " 172.04420677191985,\n",
              " 172.82918744818838,\n",
              " 172.51828644828274,\n",
              " 172.5579170585349,\n",
              " 170.41746242201705,\n",
              " 172.21333956770403,\n",
              " 170.64348987977087,\n",
              " 172.4764043893837,\n",
              " 171.8229891306343,\n",
              " 170.67173816614144,\n",
              " 172.6966076913146,\n",
              " 171.6376245764548,\n",
              " 172.02274650961598,\n",
              " 172.59149521166134,\n",
              " 173.04572889665104,\n",
              " 171.42114339710554,\n",
              " 171.9158785872262,\n",
              " 172.52349847658462,\n",
              " 171.99752954585546,\n",
              " 172.6785554217261,\n",
              " 171.36004753537688,\n",
              " 171.60437385324246,\n",
              " 172.2211546793179,\n",
              " 171.55142175857543,\n",
              " 171.1090944569839,\n",
              " 171.0826709592788,\n",
              " 172.4930814954672,\n",
              " 171.0924260704737,\n",
              " 172.17588303663732,\n",
              " 172.3121000669372,\n",
              " 171.559746981286,\n",
              " 172.96717428468912,\n",
              " 170.9695688866329,\n",
              " 172.40049192809616,\n",
              " 172.8644173394355,\n",
              " 171.11341965338775,\n",
              " 170.43821023646333,\n",
              " 171.3745857265041,\n",
              " 172.38010537944785,\n",
              " 173.39919328106328,\n",
              " 172.57927553982918,\n",
              " 171.7523151509625,\n",
              " 171.92714893397323,\n",
              " 172.78806643087367]"
            ]
          },
          "metadata": {},
          "execution_count": 40
        }
      ],
      "source": [
        "seed(47)\n",
        "# calculate daily means from the larger sample size here\n",
        "\n",
        "sample_means_for_50 = []\n",
        "for i in range(365):\n",
        "    new_sample_for_50 = townsfolk_sampler(50)\n",
        "    sample_mean_for_50 = np.mean(new_sample_for_50)\n",
        "    sample_means_for_50.append(sample_mean_for_50)\n",
        "    \n",
        "sample_means_for_50\n"
      ]
    },
    {
      "cell_type": "code",
      "execution_count": 41,
      "metadata": {
        "colab": {
          "base_uri": "https://localhost:8080/"
        },
        "id": "rL-au25M1Tqg",
        "outputId": "d40221fb-9c79-476e-b374-a95be666738e"
      },
      "outputs": [
        {
          "output_type": "execute_result",
          "data": {
            "text/plain": [
              "171.94366080916114"
            ]
          },
          "metadata": {},
          "execution_count": 41
        }
      ],
      "source": [
        "avg_town_sample_means_50 = np.mean(sample_means_for_50)\n",
        "avg_town_sample_means_50"
      ]
    },
    {
      "cell_type": "code",
      "source": [
        "std_for_50 = np.std(sample_means_for_50)\n",
        "std_for_50"
      ],
      "metadata": {
        "colab": {
          "base_uri": "https://localhost:8080/"
        },
        "id": "6gl2rJPbMk7x",
        "outputId": "708c3fbb-0787-4057-855a-aeed6fd75dd3"
      },
      "execution_count": 42,
      "outputs": [
        {
          "output_type": "execute_result",
          "data": {
            "text/plain": [
              "0.6736107539771146"
            ]
          },
          "metadata": {},
          "execution_count": 42
        }
      ]
    },
    {
      "cell_type": "markdown",
      "metadata": {
        "id": "6LXOxZZH1Tqg"
      },
      "source": [
        "What we've seen so far, then, is that we can estimate population parameters from a sample from the population, and that samples have their own distributions. Furthermore, the larger the sample size, the narrower are those sampling distributions."
      ]
    },
    {
      "cell_type": "markdown",
      "metadata": {
        "id": "XhenqZt21Tqg"
      },
      "source": [
        "### Normally testing time!"
      ]
    },
    {
      "cell_type": "markdown",
      "metadata": {
        "id": "dj6Up5Lh1Tqg"
      },
      "source": [
        "All of the above is well and good. We've been sampling from a population we know is normally distributed, we've come to understand when to use $n$ and when to use $n-1$ in the denominator to calculate the spread of a distribution, and we've  seen the Central Limit Theorem in action for a sampling distribution. All seems very well behaved in Frequentist land. But, well, why should we really care?"
      ]
    },
    {
      "cell_type": "markdown",
      "metadata": {
        "id": "8xIvtFLn1Tqg"
      },
      "source": [
        "Remember, we rarely (if ever) actually know our population parameters but we still have to estimate them somehow. If we want to make inferences to conclusions like \"this observation is unusual\" or \"my population mean has changed\" then we need to have some idea of what the underlying distribution is so we can calculate relevant probabilities. In frequentist inference, we use the formulae above to deduce these population parameters. Take a moment in the next part of this assignment to refresh your understanding of how these probabilities work."
      ]
    },
    {
      "cell_type": "markdown",
      "metadata": {
        "id": "thcQ-w_O1Tqg"
      },
      "source": [
        "Recall some basic properties of the standard normal distribution, such as that about 68% of observations are within plus or minus 1 standard deviation of the mean. Check out the precise definition of a normal distribution on p. 394 of *AoS*. \n",
        "\n",
        "__Q11:__ Using this fact, calculate the probability of observing the value 1 or less in a single observation from the standard normal distribution. Hint: you may find it helpful to sketch the standard normal distribution (the familiar bell shape) and mark the number of standard deviations from the mean on the x-axis and shade the regions of the curve that contain certain percentages of the population."
      ]
    },
    {
      "cell_type": "markdown",
      "metadata": {
        "id": "UR9qnoXu1Tqh"
      },
      "source": [
        "__A:__"
      ]
    },
    {
      "cell_type": "markdown",
      "metadata": {
        "id": "zoPeWZOX1Tqh"
      },
      "source": [
        "Calculating this probability involved calculating the area under the curve from the value of 1 and below. To put it in mathematical terms, we need to *integrate* the probability density function. We could just add together the known areas of chunks (from -Inf to 0 and then 0 to $+\\sigma$ in the example above). One way to do this is to look up tables (literally). Fortunately, scipy has this functionality built in with the cdf() function."
      ]
    },
    {
      "cell_type": "markdown",
      "metadata": {
        "id": "R_yBb9Oj1Tqh"
      },
      "source": [
        "__Q12:__ Use the cdf() function to answer the question above again and verify you get the same answer."
      ]
    },
    {
      "cell_type": "markdown",
      "metadata": {
        "id": "zkEFrADK1Tqh"
      },
      "source": [
        "__A:__"
      ]
    },
    {
      "cell_type": "code",
      "execution_count": 44,
      "metadata": {
        "colab": {
          "base_uri": "https://localhost:8080/",
          "height": 300
        },
        "id": "6Fwehmlz1Tqh",
        "outputId": "2a0373f2-6bbd-40e0-8bbd-b7d2600a8e9f"
      },
      "outputs": [
        {
          "output_type": "display_data",
          "data": {
            "text/plain": [
              "<Figure size 432x288 with 1 Axes>"
            ],
            "image/png": "[encoded data removed]"
          },
          "metadata": {
            "needs_background": "light"
          }
        }
      ],
      "source": [
        "_ = plt.hist(sample_means_for_50, bins=30)\n",
        "_ = plt.xlabel('Height (cm)', size = 14)\n",
        "_ = plt.ylabel('Number of People', size = 14)\n",
        "_ = plt.title('Distribution of sample mean heights in entire town population', size = 14)\n",
        "_ = plt.axvline(avg_town_sample_means_50, color='r')\n",
        "_ = plt.axvline(avg_town_sample_means_50+std_for_50, color='r', linestyle='--')\n",
        "_ = plt.axvline(avg_town_sample_means_50-std_for_50, color='r', linestyle='--')\n",
        "_ = plt.axvline(avg_town_sample_means_50+(std_for_50*2), color='r', linestyle='-.')\n",
        "_ = plt.axvline(avg_town_sample_means_50-(std_for_50*2), color='r', linestyle='-.')"
      ]
    },
    {
      "cell_type": "code",
      "source": [
        "norm.cdf(avg_town_sample_means_50, loc=avg_town_sample_means_50, scale=std_for_50)"
      ],
      "metadata": {
        "colab": {
          "base_uri": "https://localhost:8080/"
        },
        "id": "ba1cifD_PATB",
        "outputId": "c250e58a-29ee-4984-d719-d8bb646b84f3"
      },
      "execution_count": 45,
      "outputs": [
        {
          "output_type": "execute_result",
          "data": {
            "text/plain": [
              "0.5"
            ]
          },
          "metadata": {},
          "execution_count": 45
        }
      ]
    },
    {
      "cell_type": "markdown",
      "metadata": {
        "id": "FnXLNosl1Tqh"
      },
      "source": [
        "__Q13:__ Using our knowledge of the population parameters for our townsfolks' heights, what is the probability of selecting one person at random and their height being 177 cm or less? Calculate this using both of the approaches given above."
      ]
    },
    {
      "cell_type": "markdown",
      "metadata": {
        "id": "6xxYm8Cl1Tqi"
      },
      "source": [
        "__A:__"
      ]
    },
    {
      "cell_type": "code",
      "execution_count": 46,
      "metadata": {
        "colab": {
          "base_uri": "https://localhost:8080/"
        },
        "id": "JBtthZPy1Tqi",
        "outputId": "ad29d898-8c68-45d1-881c-ec55967fc697"
      },
      "outputs": [
        {
          "output_type": "execute_result",
          "data": {
            "text/plain": [
              "0.9999999999999696"
            ]
          },
          "metadata": {},
          "execution_count": 46
        }
      ],
      "source": [
        "norm.cdf(177, loc=avg_town_sample_means_50, scale=std_for_50)"
      ]
    },
    {
      "cell_type": "markdown",
      "metadata": {
        "id": "-c5rDzfI1Tqi"
      },
      "source": [
        "__Q14:__ Turning this question around — suppose we randomly pick one person and measure their height and find they are 2.00 m tall. How surprised should we be at this result, given what we know about the population distribution? In other words, how likely would it be to obtain a value at least as extreme as this? Express this as a probability. "
      ]
    },
    {
      "cell_type": "markdown",
      "metadata": {
        "id": "j9ACwiAK1Tqi"
      },
      "source": [
        "__A:__"
      ]
    },
    {
      "cell_type": "code",
      "execution_count": 47,
      "metadata": {
        "colab": {
          "base_uri": "https://localhost:8080/"
        },
        "id": "WtV75jJp1Tqi",
        "outputId": "5898e049-64e9-4599-9721-77f30f407318"
      },
      "outputs": [
        {
          "output_type": "execute_result",
          "data": {
            "text/plain": [
              "1.0"
            ]
          },
          "metadata": {},
          "execution_count": 47
        }
      ],
      "source": [
        "norm.cdf(200, loc=avg_town_sample_means_50, scale=std_for_50)"
      ]
    },
    {
      "cell_type": "markdown",
      "metadata": {
        "id": "GELC4No31Tqi"
      },
      "source": [
        "What we've just done is calculate the ***p-value*** of the observation of someone 2.00m tall (review *p*-values if you need to on p. 399 of *AoS*). We could calculate this probability by virtue of knowing the population parameters. We were then able to use the known properties of the relevant normal distribution to calculate the probability of observing a value at least as extreme as our test value."
      ]
    },
    {
      "cell_type": "markdown",
      "metadata": {
        "id": "VErpIlee1Tqj"
      },
      "source": [
        "We're about to come to a pinch, though. We've said a couple of times that we rarely, if ever, know the true population parameters; we have to estimate them from our sample and we cannot even begin to estimate the standard deviation from a single observation. \n",
        "\n",
        "This is very true and usually we have sample sizes larger than one. This means we can calculate the mean of the sample as our best estimate of the population mean and the standard deviation as our best estimate of the population standard deviation. \n",
        "\n",
        "In other words, we are now coming to deal with the sampling distributions we mentioned above as we are generally concerned with the properties of the sample means we obtain. \n",
        "\n",
        "Above, we highlighted one result from the CLT, whereby the sampling distribution (of the mean) becomes narrower and narrower with the square root of the sample size. We remind ourselves that another result from the CLT is that _even if the underlying population distribution is not normal, the sampling distribution will tend to become normal with sufficiently large sample size_. (**Check out p. 199 of AoS if you need to revise this**). This is the key driver for us 'requiring' a certain sample size, for example you may frequently see a minimum sample size of 30 stated in many places. In reality this is simply a rule of thumb; if the underlying distribution is approximately normal then your sampling distribution will already be pretty normal, but if the underlying distribution is heavily skewed then you'd want to increase your sample size."
      ]
    },
    {
      "cell_type": "markdown",
      "metadata": {
        "id": "XRZRv95y1Tqj"
      },
      "source": [
        "__Q15:__ Let's now start from the position of knowing nothing about the heights of people in our town.\n",
        "* Use the random seed of 47, to randomly sample the heights of 50 townsfolk\n",
        "* Estimate the population mean using np.mean\n",
        "* Estimate the population standard deviation using np.std (remember which denominator to use!)\n",
        "* Calculate the (95%) [margin of error](https://www.statisticshowto.datasciencecentral.com/probability-and-statistics/hypothesis-testing/margin-of-error/#WhatMofE) (use the exact critial z value to 2 decimal places - [look this up](https://www.statisticshowto.datasciencecentral.com/probability-and-statistics/find-critical-values/) or use norm.ppf()) Recall that the ***margin of error*** is mentioned on p. 189 of the *AoS* and discussed in depth in that chapter). \n",
        "* Calculate the 95% Confidence Interval of the mean (***confidence intervals*** are defined on p. 385 of *AoS*) \n",
        "* Does this interval include the true population mean?"
      ]
    },
    {
      "cell_type": "markdown",
      "metadata": {
        "id": "4n_N1WzD1Tqj"
      },
      "source": [
        "__A:__"
      ]
    },
    {
      "cell_type": "code",
      "execution_count": 48,
      "metadata": {
        "colab": {
          "base_uri": "https://localhost:8080/"
        },
        "id": "6uXjqlpd1Tqj",
        "outputId": "2e89c34c-f9d6-4dc0-8ef9-5b2e5a0b6063"
      },
      "outputs": [
        {
          "output_type": "execute_result",
          "data": {
            "text/plain": [
              "[172.7815108576788,\n",
              " 172.79757492503552,\n",
              " 172.9396310954854,\n",
              " 173.3542075784445,\n",
              " 171.1485580390421,\n",
              " 171.27023338249884,\n",
              " 171.57773042798325,\n",
              " 171.63862815675472,\n",
              " 171.96210793335894,\n",
              " 172.66373830647717,\n",
              " 171.6615364799722,\n",
              " 171.88936776644812,\n",
              " 172.4205753053962,\n",
              " 170.68416081476462,\n",
              " 171.37644563516122,\n",
              " 170.89082919619474,\n",
              " 170.63167276488755,\n",
              " 171.84458610711957,\n",
              " 171.7056952443146,\n",
              " 172.0024093610841,\n",
              " 172.17533172997156,\n",
              " 171.66803383747916,\n",
              " 172.41006409365593,\n",
              " 172.03517066252826,\n",
              " 171.84810905850273,\n",
              " 173.29507939012166,\n",
              " 172.47483621040422,\n",
              " 172.24808622542724,\n",
              " 171.7349369252512,\n",
              " 171.0791666560747,\n",
              " 172.0718628174714,\n",
              " 171.56980924327706,\n",
              " 171.27134293407755,\n",
              " 171.10827182706282,\n",
              " 171.83147861260113,\n",
              " 172.64522968251705,\n",
              " 171.34184833161441,\n",
              " 171.67949207236762,\n",
              " 171.1656798606149,\n",
              " 172.50378182453488,\n",
              " 172.02347109882115,\n",
              " 171.98370176182962,\n",
              " 172.25788852831275,\n",
              " 172.66663634007872,\n",
              " 172.95172682262927,\n",
              " 171.6650208749629,\n",
              " 172.27647892611563,\n",
              " 172.56057396442372,\n",
              " 170.63814005426747,\n",
              " 171.2926075648261,\n",
              " 172.05628333087486,\n",
              " 171.63431334474822,\n",
              " 171.12226067877384,\n",
              " 172.0354775555923,\n",
              " 171.66181713847348,\n",
              " 172.74777937134553,\n",
              " 172.69973603545813,\n",
              " 171.7412662455689,\n",
              " 172.16291010361644,\n",
              " 172.0680786949149,\n",
              " 171.47146681665058,\n",
              " 171.45929053786557,\n",
              " 171.38381920550947,\n",
              " 170.74187931219902,\n",
              " 171.81481490446072,\n",
              " 171.1811454661782,\n",
              " 170.65765062531491,\n",
              " 172.48449628255221,\n",
              " 172.3626008744472,\n",
              " 171.3248233563762,\n",
              " 172.32157836257954,\n",
              " 171.3575146428834,\n",
              " 172.01230012182947,\n",
              " 171.45586797475937,\n",
              " 172.60832644769337,\n",
              " 172.90923064763888,\n",
              " 171.8232960400748,\n",
              " 172.02353512146678,\n",
              " 172.69244683833068,\n",
              " 172.5943354823301,\n",
              " 171.99559210545397,\n",
              " 170.88697444561848,\n",
              " 171.1287369020899,\n",
              " 173.3049050979804,\n",
              " 172.69005486736165,\n",
              " 171.31418515136443,\n",
              " 171.93620537662483,\n",
              " 170.84661950770945,\n",
              " 171.9420815386141,\n",
              " 172.7083537460361,\n",
              " 172.1068195680666,\n",
              " 172.08204873872012,\n",
              " 172.0857165025829,\n",
              " 172.28737626070964,\n",
              " 172.04409392625038,\n",
              " 171.72714932124234,\n",
              " 171.6108994453248,\n",
              " 171.40343323871966,\n",
              " 172.30606391429757,\n",
              " 173.14332165770466,\n",
              " 172.27657327770484,\n",
              " 171.86275141603662,\n",
              " 171.50224664098383,\n",
              " 170.07952858877113,\n",
              " 172.5189009341571,\n",
              " 171.22251422041813,\n",
              " 172.67348326757946,\n",
              " 171.3293814179121,\n",
              " 171.00380509699332,\n",
              " 172.04855887469952,\n",
              " 172.35372679227385,\n",
              " 170.67921568704617,\n",
              " 172.99986959212052,\n",
              " 172.26329470364595,\n",
              " 172.0372815194926,\n",
              " 172.35291480579843,\n",
              " 172.11903049105516,\n",
              " 172.0066044678251,\n",
              " 172.46448231204985,\n",
              " 172.4842815283576,\n",
              " 173.0169980361144,\n",
              " 170.89881785435747,\n",
              " 171.42254596527545,\n",
              " 171.37289809789033,\n",
              " 171.2414752854563,\n",
              " 172.86603311439686,\n",
              " 172.39453776258665,\n",
              " 171.30716428108641,\n",
              " 171.4019540281487,\n",
              " 172.76196180965368,\n",
              " 172.32905324065024,\n",
              " 172.3554490722028,\n",
              " 172.5489706719045,\n",
              " 172.98899631619722,\n",
              " 171.2300829660369,\n",
              " 171.7600764723803,\n",
              " 171.15894560780814,\n",
              " 172.2999306331501,\n",
              " 171.83028602099984,\n",
              " 171.32862238423687,\n",
              " 170.77936767894244,\n",
              " 172.36292504264466,\n",
              " 172.0627351161584,\n",
              " 172.4572213189606,\n",
              " 171.47259301389403,\n",
              " 172.70448049640206,\n",
              " 170.9033793774536,\n",
              " 171.4977384620653,\n",
              " 171.92281752488395,\n",
              " 172.86154988875325,\n",
              " 172.8406753273718,\n",
              " 171.93324378922023,\n",
              " 171.74883388697694,\n",
              " 171.98380721046607,\n",
              " 171.46917463958798,\n",
              " 172.6146893473156,\n",
              " 172.91164033636466,\n",
              " 173.15753287968465,\n",
              " 172.27759829362836,\n",
              " 171.6774296769677,\n",
              " 171.54975020959088,\n",
              " 171.18582241213085,\n",
              " 171.66755046501711,\n",
              " 172.41658296742696,\n",
              " 173.04107187033074,\n",
              " 172.82076706195545,\n",
              " 171.46704286023976,\n",
              " 172.96233338098062,\n",
              " 172.12934776128904,\n",
              " 172.08330964582936,\n",
              " 171.8006916652453,\n",
              " 172.34308489334754,\n",
              " 171.88215305794077,\n",
              " 171.1559085024102,\n",
              " 171.85364449530417,\n",
              " 172.93460329977185,\n",
              " 173.18000857755993,\n",
              " 171.63724982728382,\n",
              " 173.4162760941612,\n",
              " 171.45107342933244,\n",
              " 170.76490777374693,\n",
              " 171.6380925465537,\n",
              " 171.74032428812748,\n",
              " 173.80301248510375,\n",
              " 171.74462296299367,\n",
              " 173.6235349342996,\n",
              " 171.2647502513369,\n",
              " 172.06979893037817,\n",
              " 172.17030823278597,\n",
              " 170.44348581706814,\n",
              " 172.73644707827924,\n",
              " 172.19090153359073,\n",
              " 170.6578604779148,\n",
              " 172.10099771905325,\n",
              " 171.71531553821683,\n",
              " 171.97867899672087,\n",
              " 171.99897228560974,\n",
              " 172.4364591414134,\n",
              " 171.1243322935377,\n",
              " 172.03204756684772,\n",
              " 171.30211257997559,\n",
              " 172.00669486226315,\n",
              " 172.38311872523292,\n",
              " 171.33568707613824,\n",
              " 171.33985719376716,\n",
              " 171.95870433759694,\n",
              " 171.1496261610421,\n",
              " 172.5782952059696,\n",
              " 172.42033433556662,\n",
              " 171.54928742914416,\n",
              " 172.5723730532069,\n",
              " 171.56614037303956,\n",
              " 171.37921101331048,\n",
              " 171.52449936229027,\n",
              " 171.33306899210882,\n",
              " 171.82625547275902,\n",
              " 171.44376529985166,\n",
              " 171.9873267301407,\n",
              " 172.0094762498349,\n",
              " 172.81511936308092,\n",
              " 171.91731067977227,\n",
              " 172.0977196544409,\n",
              " 172.32574513267085,\n",
              " 172.60347671265737,\n",
              " 172.44053362590222,\n",
              " 170.7468452174613,\n",
              " 170.98868067184708,\n",
              " 171.84561306662016,\n",
              " 171.8761956044929,\n",
              " 173.16669451210873,\n",
              " 171.758230409592,\n",
              " 172.31744287207303,\n",
              " 172.26066373967592,\n",
              " 172.90387119314428,\n",
              " 172.1542094707465,\n",
              " 172.41611963294156,\n",
              " 170.69078115925237,\n",
              " 172.74649501887535,\n",
              " 171.07615434950935,\n",
              " 172.02698832176975,\n",
              " 172.00554677262645,\n",
              " 172.74745263250585,\n",
              " 171.65945615758167,\n",
              " 172.42931787037676,\n",
              " 171.31139266156774,\n",
              " 172.86340638614564,\n",
              " 172.63046912414976,\n",
              " 171.90607197945067,\n",
              " 170.72003646709956,\n",
              " 172.10949275660838,\n",
              " 171.45152053467376,\n",
              " 171.86770717358283,\n",
              " 171.39371405813117,\n",
              " 172.14407557961246,\n",
              " 171.86145845615715,\n",
              " 171.0643157579227,\n",
              " 171.11107165580725,\n",
              " 171.97515142159185,\n",
              " 172.2507452119935,\n",
              " 172.1856139091256,\n",
              " 172.4867254532553,\n",
              " 172.62914954558713,\n",
              " 172.8416069041034,\n",
              " 172.95766914878197,\n",
              " 173.10461610473183,\n",
              " 171.41466281567926,\n",
              " 171.89091850205338,\n",
              " 171.91765493682541,\n",
              " 171.3856728570194,\n",
              " 172.5580115051518,\n",
              " 170.83751768580808,\n",
              " 172.60219501605832,\n",
              " 171.7505797307657,\n",
              " 171.9617303911309,\n",
              " 171.84660491414547,\n",
              " 172.35776791909186,\n",
              " 171.2458779978962,\n",
              " 171.93438007088704,\n",
              " 171.8606276617006,\n",
              " 171.84556709017835,\n",
              " 171.44970933561854,\n",
              " 172.74576860936187,\n",
              " 170.38777847996414,\n",
              " 172.3466863540159,\n",
              " 172.8038464437931,\n",
              " 171.91877900815456,\n",
              " 172.66506616836838,\n",
              " 170.78590101157235,\n",
              " 172.11850648936783,\n",
              " 170.75665956609814,\n",
              " 171.7151020651713,\n",
              " 172.10742863250215,\n",
              " 172.51206031029852,\n",
              " 171.65287206192647,\n",
              " 172.55011484163367,\n",
              " 171.80014021314176,\n",
              " 171.68322902960838,\n",
              " 171.72240274574912,\n",
              " 171.58157929787114,\n",
              " 172.89233455637458,\n",
              " 171.35548749762108,\n",
              " 171.21277983252344,\n",
              " 172.50712890942086,\n",
              " 170.60810840182512,\n",
              " 172.58764074576774,\n",
              " 172.59321378019294,\n",
              " 172.75315782350623,\n",
              " 171.78472781834543,\n",
              " 170.56401239103522,\n",
              " 172.65025382629744,\n",
              " 172.50016154070934,\n",
              " 171.01133751509252,\n",
              " 171.89707218069572,\n",
              " 171.39777017939866,\n",
              " 171.5888706941444,\n",
              " 172.17453748533066,\n",
              " 172.5422328160275,\n",
              " 171.25478419429447,\n",
              " 171.48147133549224,\n",
              " 171.46642822745997,\n",
              " 171.58713991008008,\n",
              " 172.04420677191985,\n",
              " 172.82918744818838,\n",
              " 172.51828644828274,\n",
              " 172.5579170585349,\n",
              " 170.41746242201705,\n",
              " 172.21333956770403,\n",
              " 170.64348987977087,\n",
              " 172.4764043893837,\n",
              " 171.8229891306343,\n",
              " 170.67173816614144,\n",
              " 172.6966076913146,\n",
              " 171.6376245764548,\n",
              " 172.02274650961598,\n",
              " 172.59149521166134,\n",
              " 173.04572889665104,\n",
              " 171.42114339710554,\n",
              " 171.9158785872262,\n",
              " 172.52349847658462,\n",
              " 171.99752954585546,\n",
              " 172.6785554217261,\n",
              " 171.36004753537688,\n",
              " 171.60437385324246,\n",
              " 172.2211546793179,\n",
              " 171.55142175857543,\n",
              " 171.1090944569839,\n",
              " 171.0826709592788,\n",
              " 172.4930814954672,\n",
              " 171.0924260704737,\n",
              " 172.17588303663732,\n",
              " 172.3121000669372,\n",
              " 171.559746981286,\n",
              " 172.96717428468912,\n",
              " 170.9695688866329,\n",
              " 172.40049192809616,\n",
              " 172.8644173394355,\n",
              " 171.11341965338775,\n",
              " 170.43821023646333,\n",
              " 171.3745857265041,\n",
              " 172.38010537944785,\n",
              " 173.39919328106328,\n",
              " 172.57927553982918,\n",
              " 171.7523151509625,\n",
              " 171.92714893397323,\n",
              " 172.78806643087367]"
            ]
          },
          "metadata": {},
          "execution_count": 48
        }
      ],
      "source": [
        "seed(47)\n",
        "# take your sample now\n",
        "new_town_sample_means_50 = []\n",
        "for i in range(365):\n",
        "    new_town_sample_50 = townsfolk_sampler(50)\n",
        "    new_town_sample_mean_50 = np.mean(new_town_sample_50)\n",
        "    new_town_sample_means_50.append(new_town_sample_mean_50)\n",
        "    \n",
        "new_town_sample_means_50\n"
      ]
    },
    {
      "cell_type": "code",
      "source": [
        "#estimate population mean\n",
        "random_samples = np.random.choice(pop_heights, 50)\n",
        "sample_mean = np.mean(random_samples)\n",
        "sample_mean"
      ],
      "metadata": {
        "colab": {
          "base_uri": "https://localhost:8080/"
        },
        "id": "l4YmNdh8SKgT",
        "outputId": "772f36ff-b0dc-4332-a395-be138ac2d781"
      },
      "execution_count": 52,
      "outputs": [
        {
          "output_type": "execute_result",
          "data": {
            "text/plain": [
              "171.79281074172556"
            ]
          },
          "metadata": {},
          "execution_count": 52
        }
      ]
    },
    {
      "cell_type": "code",
      "source": [
        "#estimate population standard deviation\n",
        "sample_std = np.std(random_samples, ddof=1)\n",
        "sample_std"
      ],
      "metadata": {
        "colab": {
          "base_uri": "https://localhost:8080/"
        },
        "id": "akd80DrzSKYh",
        "outputId": "8a5d3550-2a58-4ea4-bbeb-cca4547d2495"
      },
      "execution_count": 53,
      "outputs": [
        {
          "output_type": "execute_result",
          "data": {
            "text/plain": [
              "4.605547440723909"
            ]
          },
          "metadata": {},
          "execution_count": 53
        }
      ]
    },
    {
      "cell_type": "code",
      "source": [
        "#Margin of error\n",
        "moe_95 = 1.96 * (sample_std / np.sqrt(len(random_samples))) \n",
        "moe_95"
      ],
      "metadata": {
        "colab": {
          "base_uri": "https://localhost:8080/"
        },
        "id": "4f_pVbwNSKQt",
        "outputId": "b523f9a9-4067-4138-9963-6c1d731b73f4"
      },
      "execution_count": 58,
      "outputs": [
        {
          "output_type": "execute_result",
          "data": {
            "text/plain": [
              "1.2765926199535922"
            ]
          },
          "metadata": {},
          "execution_count": 58
        }
      ]
    },
    {
      "cell_type": "code",
      "source": [
        "#Margin of error\n",
        "moe_95 = norm.ppf(0.975,loc=0,scale=1) * (sample_std / (np.sqrt(len(random_samples))))\n",
        "moe_95"
      ],
      "metadata": {
        "colab": {
          "base_uri": "https://localhost:8080/"
        },
        "id": "g-FuSUKmSKJc",
        "outputId": "592cf209-85f7-46c2-ab48-a81882b20ec1"
      },
      "execution_count": 59,
      "outputs": [
        {
          "output_type": "execute_result",
          "data": {
            "text/plain": [
              "1.2765691622646274"
            ]
          },
          "metadata": {},
          "execution_count": 59
        }
      ]
    },
    {
      "cell_type": "code",
      "execution_count": 49,
      "metadata": {
        "colab": {
          "base_uri": "https://localhost:8080/"
        },
        "id": "rOurb0bq1Tqj",
        "outputId": "74cb8cb8-dc27-42de-e5a1-77bf63077900"
      },
      "outputs": [
        {
          "output_type": "execute_result",
          "data": {
            "text/plain": [
              "173.5885144361126"
            ]
          },
          "metadata": {},
          "execution_count": 49
        }
      ],
      "source": [
        "norm.ppf(.95, np.mean(new_town_sample_means_50))"
      ]
    },
    {
      "cell_type": "code",
      "execution_count": 50,
      "metadata": {
        "colab": {
          "base_uri": "https://localhost:8080/"
        },
        "id": "b8zB_9ze1Tqj",
        "outputId": "eac18404-5f52-4493-b5d5-16c19f798a28"
      },
      "outputs": [
        {
          "output_type": "execute_result",
          "data": {
            "text/plain": [
              "171.94366080916114"
            ]
          },
          "metadata": {},
          "execution_count": 50
        }
      ],
      "source": [
        "np.mean(new_town_sample_means_50)"
      ]
    },
    {
      "cell_type": "markdown",
      "source": [
        "The confidence interval does contain the mean height of 172."
      ],
      "metadata": {
        "id": "wrx7CsymTgja"
      }
    },
    {
      "cell_type": "code",
      "execution_count": null,
      "metadata": {
        "id": "vvYrAng_1Tqj"
      },
      "outputs": [],
      "source": []
    },
    {
      "cell_type": "code",
      "execution_count": null,
      "metadata": {
        "id": "mQ99mVU_1Tqk"
      },
      "outputs": [],
      "source": []
    },
    {
      "cell_type": "markdown",
      "metadata": {
        "id": "_CMaXymG1Tqk"
      },
      "source": [
        "__Q16:__ Above, we calculated the confidence interval using the critical z value. What is the problem with this? What requirement, or requirements, are we (strictly) failing?"
      ]
    },
    {
      "cell_type": "markdown",
      "metadata": {
        "id": "0kGkI-kk1Tqk"
      },
      "source": [
        "__A:__\n",
        "Generally, z values should be used when sample size is > 30 and the population standard deviation is known. This example meets the sample size requirements. However, the population standard deviation is not known (it was estimated from the sample)."
      ]
    },
    {
      "cell_type": "markdown",
      "metadata": {
        "id": "nPyYaq061Tqk"
      },
      "source": [
        "__Q17:__ Calculate the 95% confidence interval for the mean using the _t_ distribution. Is this wider or narrower than that based on the normal distribution above? If you're unsure, you may find this [resource](https://www.statisticshowto.datasciencecentral.com/probability-and-statistics/confidence-interval/) useful. For calculating the critical value, remember how you could calculate this for the normal distribution using norm.ppf()."
      ]
    },
    {
      "cell_type": "markdown",
      "metadata": {
        "id": "dFfPjBF51Tqk"
      },
      "source": [
        "__A:__"
      ]
    },
    {
      "cell_type": "code",
      "execution_count": 60,
      "metadata": {
        "colab": {
          "base_uri": "https://localhost:8080/"
        },
        "id": "TRguN5zI1Tqk",
        "outputId": "76a083a9-f8e2-406d-82b4-6b1ab9ef5557"
      },
      "outputs": [
        {
          "output_type": "execute_result",
          "data": {
            "text/plain": [
              "1.3088820987706293"
            ]
          },
          "metadata": {},
          "execution_count": 60
        }
      ],
      "source": [
        "moe_95 = t.ppf(0.975,len(random_samples)-1,loc=0,scale=1) * (sample_std / (np.sqrt(len(random_samples))))\n",
        "moe_95"
      ]
    },
    {
      "cell_type": "code",
      "execution_count": 63,
      "metadata": {
        "colab": {
          "base_uri": "https://localhost:8080/"
        },
        "id": "JNsi0_Mx1Tqk",
        "outputId": "38cbf6bd-06a0-40ac-fe7d-8b97dbb35eb5"
      },
      "outputs": [
        {
          "output_type": "execute_result",
          "data": {
            "text/plain": [
              "170.48392864295494"
            ]
          },
          "metadata": {},
          "execution_count": 63
        }
      ],
      "source": [
        "#95% Confidence interval\n",
        "sample_mean - moe_95"
      ]
    },
    {
      "cell_type": "code",
      "execution_count": 64,
      "metadata": {
        "colab": {
          "base_uri": "https://localhost:8080/"
        },
        "id": "TIg9TRlA1Tql",
        "outputId": "8b69a842-9c46-4e5c-d91e-95e68a621d42"
      },
      "outputs": [
        {
          "output_type": "execute_result",
          "data": {
            "text/plain": [
              "173.10169284049618"
            ]
          },
          "metadata": {},
          "execution_count": 64
        }
      ],
      "source": [
        "#95% Confidence interval\n",
        "sample_mean + moe_95"
      ]
    },
    {
      "cell_type": "markdown",
      "metadata": {
        "id": "1YmFMudG1Tql"
      },
      "source": [
        "This is slightly wider than the previous confidence interval. This reflects the greater uncertainty given that we are estimating population parameters from a sample."
      ]
    },
    {
      "cell_type": "markdown",
      "metadata": {
        "id": "sILfH71g1Tql"
      },
      "source": [
        "## 4. Learning outcomes"
      ]
    },
    {
      "cell_type": "markdown",
      "metadata": {
        "id": "WHxnL_oy1Tql"
      },
      "source": [
        "Having completed this project notebook, you now have hands-on experience:\n",
        "* sampling and calculating probabilities from a normal distribution\n",
        "* identifying the correct way to estimate the standard deviation of a population (the population parameter) from a sample\n",
        "* with sampling distribution and now know how the Central Limit Theorem applies\n",
        "* with how to calculate critical values and confidence intervals"
      ]
    },
    {
      "cell_type": "code",
      "execution_count": null,
      "metadata": {
        "id": "imyCjZk51Tql"
      },
      "outputs": [],
      "source": []
    }
  ],
  "metadata": {
    "kernelspec": {
      "display_name": "Python 3",
      "language": "python",
      "name": "python3"
    },
    "language_info": {
      "codemirror_mode": {
        "name": "ipython",
        "version": 3
      },
      "file_extension": ".py",
      "mimetype": "text/x-python",
      "name": "python",
      "nbconvert_exporter": "python",
      "pygments_lexer": "ipython3",
      "version": "3.7.3"
    },
    "colab": {
      "provenance": []
    }
  },
  "nbformat": 4,
  "nbformat_minor": 0
}